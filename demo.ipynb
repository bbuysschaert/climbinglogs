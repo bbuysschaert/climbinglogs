{
 "cells": [
  {
   "cell_type": "markdown",
   "id": "90c61313",
   "metadata": {},
   "source": [
    "# Climbing logs: exploration\n",
    "\n",
    "Exploration of the usability of the logs"
   ]
  },
  {
   "cell_type": "markdown",
   "id": "da24e47b",
   "metadata": {},
   "source": [
    "### 0. Variables and dependencies"
   ]
  },
  {
   "cell_type": "code",
   "execution_count": 1,
   "id": "2a763928",
   "metadata": {},
   "outputs": [],
   "source": [
    "import pandas as pd\n",
    "import numpy as np\n",
    "import datetime\n",
    "\n",
    "import matplotlib.pyplot as plt"
   ]
  },
  {
   "cell_type": "code",
   "execution_count": 2,
   "id": "567ea385",
   "metadata": {},
   "outputs": [],
   "source": [
    "from climb.extraction import extract_climbinglogs, extract_sessionlogs\n",
    "from climb.aggregation import compute_gradepyramid_basic, get_maxgrade_flash, get_mediangrade\n",
    "from climb.aggregation import compute_gradepyramid, compute_weeklysummary\n",
    "from climb.diagram import plot_doublegradepyramid, plot_gradepyramid, plot_weeklysummary, plot_monthlysummary"
   ]
  },
  {
   "cell_type": "code",
   "execution_count": 3,
   "id": "3c374ad1",
   "metadata": {},
   "outputs": [],
   "source": [
    "filein = './data/climbinglogs.xlsx'"
   ]
  },
  {
   "cell_type": "markdown",
   "id": "2a675532",
   "metadata": {},
   "source": [
    "### 1. Read in the data"
   ]
  },
  {
   "cell_type": "code",
   "execution_count": 4,
   "id": "b5cdbe10",
   "metadata": {},
   "outputs": [],
   "source": [
    "from climb.grade import import_gradestable"
   ]
  },
  {
   "cell_type": "code",
   "execution_count": 5,
   "id": "0b35d097",
   "metadata": {},
   "outputs": [],
   "source": [
    "logs = extract_climbinglogs(filein,\n",
    "                            cols_ffill=['date', 'climbing_gym', 'grade']\n",
    "                           )\n",
    "logs['week'] = logs['date'].dt.to_period('W-MON').apply(lambda r: r.start_time)"
   ]
  },
  {
   "cell_type": "code",
   "execution_count": 6,
   "id": "4361da4f",
   "metadata": {},
   "outputs": [
    {
     "data": {
      "text/html": [
       "<div>\n",
       "<style scoped>\n",
       "    .dataframe tbody tr th:only-of-type {\n",
       "        vertical-align: middle;\n",
       "    }\n",
       "\n",
       "    .dataframe tbody tr th {\n",
       "        vertical-align: top;\n",
       "    }\n",
       "\n",
       "    .dataframe thead th {\n",
       "        text-align: right;\n",
       "    }\n",
       "</style>\n",
       "<table border=\"1\" class=\"dataframe\">\n",
       "  <thead>\n",
       "    <tr style=\"text-align: right;\">\n",
       "      <th></th>\n",
       "      <th>date</th>\n",
       "      <th>climbing_gym</th>\n",
       "      <th>climbing_sequence_in_session</th>\n",
       "      <th>route</th>\n",
       "      <th>grade</th>\n",
       "      <th>ascension_type</th>\n",
       "      <th>style</th>\n",
       "      <th>route_information</th>\n",
       "      <th>blocks</th>\n",
       "      <th>falls</th>\n",
       "      <th>sends</th>\n",
       "      <th>notes</th>\n",
       "      <th>grade_usa</th>\n",
       "      <th>grade_french</th>\n",
       "      <th>week</th>\n",
       "    </tr>\n",
       "  </thead>\n",
       "  <tbody>\n",
       "    <tr>\n",
       "      <th>0</th>\n",
       "      <td>2022-10-27</td>\n",
       "      <td>Allez-up, Montreal</td>\n",
       "      <td>1</td>\n",
       "      <td>NaN</td>\n",
       "      <td>5.9</td>\n",
       "      <td>redpoint</td>\n",
       "      <td>lead</td>\n",
       "      <td>NaN</td>\n",
       "      <td>0</td>\n",
       "      <td>0</td>\n",
       "      <td>1</td>\n",
       "      <td>NaN</td>\n",
       "      <td>5.9</td>\n",
       "      <td>5c</td>\n",
       "      <td>2022-10-25</td>\n",
       "    </tr>\n",
       "    <tr>\n",
       "      <th>1</th>\n",
       "      <td>2022-10-27</td>\n",
       "      <td>Allez-up, Montreal</td>\n",
       "      <td>2</td>\n",
       "      <td>NaN</td>\n",
       "      <td>5.10b</td>\n",
       "      <td>flash</td>\n",
       "      <td>lead</td>\n",
       "      <td>Roof</td>\n",
       "      <td>0</td>\n",
       "      <td>0</td>\n",
       "      <td>1</td>\n",
       "      <td>NaN</td>\n",
       "      <td>5.10b</td>\n",
       "      <td>6a+</td>\n",
       "      <td>2022-10-25</td>\n",
       "    </tr>\n",
       "    <tr>\n",
       "      <th>2</th>\n",
       "      <td>2022-10-27</td>\n",
       "      <td>Allez-up, Montreal</td>\n",
       "      <td>3</td>\n",
       "      <td>NaN</td>\n",
       "      <td>5.10c</td>\n",
       "      <td>redpoint</td>\n",
       "      <td>lead</td>\n",
       "      <td>Arrete</td>\n",
       "      <td>0</td>\n",
       "      <td>0</td>\n",
       "      <td>1</td>\n",
       "      <td>NaN</td>\n",
       "      <td>5.10c</td>\n",
       "      <td>6b</td>\n",
       "      <td>2022-10-25</td>\n",
       "    </tr>\n",
       "    <tr>\n",
       "      <th>3</th>\n",
       "      <td>2022-10-27</td>\n",
       "      <td>Allez-up, Montreal</td>\n",
       "      <td>4</td>\n",
       "      <td>62 - yellow</td>\n",
       "      <td>5.11d</td>\n",
       "      <td>redpoint</td>\n",
       "      <td>lead</td>\n",
       "      <td>NaN</td>\n",
       "      <td>0</td>\n",
       "      <td>0</td>\n",
       "      <td>1</td>\n",
       "      <td>1st lead</td>\n",
       "      <td>5.11d</td>\n",
       "      <td>7a</td>\n",
       "      <td>2022-10-25</td>\n",
       "    </tr>\n",
       "    <tr>\n",
       "      <th>4</th>\n",
       "      <td>2022-10-27</td>\n",
       "      <td>Allez-up, Montreal</td>\n",
       "      <td>5</td>\n",
       "      <td>NaN</td>\n",
       "      <td>5.10d</td>\n",
       "      <td>flash</td>\n",
       "      <td>lead</td>\n",
       "      <td>Roof</td>\n",
       "      <td>0</td>\n",
       "      <td>0</td>\n",
       "      <td>1</td>\n",
       "      <td>NaN</td>\n",
       "      <td>5.10d</td>\n",
       "      <td>6b+</td>\n",
       "      <td>2022-10-25</td>\n",
       "    </tr>\n",
       "    <tr>\n",
       "      <th>...</th>\n",
       "      <td>...</td>\n",
       "      <td>...</td>\n",
       "      <td>...</td>\n",
       "      <td>...</td>\n",
       "      <td>...</td>\n",
       "      <td>...</td>\n",
       "      <td>...</td>\n",
       "      <td>...</td>\n",
       "      <td>...</td>\n",
       "      <td>...</td>\n",
       "      <td>...</td>\n",
       "      <td>...</td>\n",
       "      <td>...</td>\n",
       "      <td>...</td>\n",
       "      <td>...</td>\n",
       "    </tr>\n",
       "    <tr>\n",
       "      <th>325</th>\n",
       "      <td>2023-01-31</td>\n",
       "      <td>Allez-up, Montreal</td>\n",
       "      <td>4</td>\n",
       "      <td>21 - purple</td>\n",
       "      <td>5.12a</td>\n",
       "      <td>topped</td>\n",
       "      <td>toprope</td>\n",
       "      <td>NaN</td>\n",
       "      <td>2</td>\n",
       "      <td>0</td>\n",
       "      <td>1</td>\n",
       "      <td>NaN</td>\n",
       "      <td>5.12a</td>\n",
       "      <td>7a+</td>\n",
       "      <td>2023-01-31</td>\n",
       "    </tr>\n",
       "    <tr>\n",
       "      <th>326</th>\n",
       "      <td>2023-01-31</td>\n",
       "      <td>Allez-up, Montreal</td>\n",
       "      <td>5</td>\n",
       "      <td>21 - purple</td>\n",
       "      <td>5.12a</td>\n",
       "      <td>redpoint</td>\n",
       "      <td>toprope</td>\n",
       "      <td>NaN</td>\n",
       "      <td>0</td>\n",
       "      <td>0</td>\n",
       "      <td>1</td>\n",
       "      <td>NaN</td>\n",
       "      <td>5.12a</td>\n",
       "      <td>7a+</td>\n",
       "      <td>2023-01-31</td>\n",
       "    </tr>\n",
       "    <tr>\n",
       "      <th>327</th>\n",
       "      <td>2023-01-31</td>\n",
       "      <td>Allez-up, Montreal</td>\n",
       "      <td>6</td>\n",
       "      <td>60 - white</td>\n",
       "      <td>5.11a</td>\n",
       "      <td>flash</td>\n",
       "      <td>toprope</td>\n",
       "      <td>NaN</td>\n",
       "      <td>0</td>\n",
       "      <td>0</td>\n",
       "      <td>1</td>\n",
       "      <td>NaN</td>\n",
       "      <td>5.11a</td>\n",
       "      <td>6c</td>\n",
       "      <td>2023-01-31</td>\n",
       "    </tr>\n",
       "    <tr>\n",
       "      <th>328</th>\n",
       "      <td>2023-01-31</td>\n",
       "      <td>Allez-up, Montreal</td>\n",
       "      <td>7</td>\n",
       "      <td>62 - yellow</td>\n",
       "      <td>5.11b</td>\n",
       "      <td>not topped</td>\n",
       "      <td>toprope</td>\n",
       "      <td>NaN</td>\n",
       "      <td>1</td>\n",
       "      <td>0</td>\n",
       "      <td>0</td>\n",
       "      <td>Slipped</td>\n",
       "      <td>5.11b</td>\n",
       "      <td>6c+</td>\n",
       "      <td>2023-01-31</td>\n",
       "    </tr>\n",
       "    <tr>\n",
       "      <th>329</th>\n",
       "      <td>2023-01-31</td>\n",
       "      <td>Allez-up, Montreal</td>\n",
       "      <td>8</td>\n",
       "      <td>62 - yellow</td>\n",
       "      <td>5.11b</td>\n",
       "      <td>redpoint</td>\n",
       "      <td>toprope</td>\n",
       "      <td>NaN</td>\n",
       "      <td>0</td>\n",
       "      <td>0</td>\n",
       "      <td>1</td>\n",
       "      <td>2nd go</td>\n",
       "      <td>5.11b</td>\n",
       "      <td>6c+</td>\n",
       "      <td>2023-01-31</td>\n",
       "    </tr>\n",
       "  </tbody>\n",
       "</table>\n",
       "<p>330 rows × 15 columns</p>\n",
       "</div>"
      ],
      "text/plain": [
       "          date        climbing_gym  climbing_sequence_in_session        route  \\\n",
       "0   2022-10-27  Allez-up, Montreal                             1          NaN   \n",
       "1   2022-10-27  Allez-up, Montreal                             2          NaN   \n",
       "2   2022-10-27  Allez-up, Montreal                             3          NaN   \n",
       "3   2022-10-27  Allez-up, Montreal                             4  62 - yellow   \n",
       "4   2022-10-27  Allez-up, Montreal                             5          NaN   \n",
       "..         ...                 ...                           ...          ...   \n",
       "325 2023-01-31  Allez-up, Montreal                             4  21 - purple   \n",
       "326 2023-01-31  Allez-up, Montreal                             5  21 - purple   \n",
       "327 2023-01-31  Allez-up, Montreal                             6   60 - white   \n",
       "328 2023-01-31  Allez-up, Montreal                             7  62 - yellow   \n",
       "329 2023-01-31  Allez-up, Montreal                             8  62 - yellow   \n",
       "\n",
       "     grade ascension_type    style route_information  blocks  falls  sends  \\\n",
       "0      5.9       redpoint     lead               NaN       0      0      1   \n",
       "1    5.10b          flash     lead              Roof       0      0      1   \n",
       "2    5.10c       redpoint     lead            Arrete       0      0      1   \n",
       "3    5.11d       redpoint     lead               NaN       0      0      1   \n",
       "4    5.10d          flash     lead              Roof       0      0      1   \n",
       "..     ...            ...      ...               ...     ...    ...    ...   \n",
       "325  5.12a         topped  toprope               NaN       2      0      1   \n",
       "326  5.12a       redpoint  toprope               NaN       0      0      1   \n",
       "327  5.11a          flash  toprope               NaN       0      0      1   \n",
       "328  5.11b     not topped  toprope               NaN       1      0      0   \n",
       "329  5.11b       redpoint  toprope               NaN       0      0      1   \n",
       "\n",
       "        notes grade_usa grade_french       week  \n",
       "0         NaN       5.9           5c 2022-10-25  \n",
       "1         NaN     5.10b          6a+ 2022-10-25  \n",
       "2         NaN     5.10c           6b 2022-10-25  \n",
       "3    1st lead     5.11d           7a 2022-10-25  \n",
       "4         NaN     5.10d          6b+ 2022-10-25  \n",
       "..        ...       ...          ...        ...  \n",
       "325       NaN     5.12a          7a+ 2023-01-31  \n",
       "326       NaN     5.12a          7a+ 2023-01-31  \n",
       "327       NaN     5.11a           6c 2023-01-31  \n",
       "328   Slipped     5.11b          6c+ 2023-01-31  \n",
       "329    2nd go     5.11b          6c+ 2023-01-31  \n",
       "\n",
       "[330 rows x 15 columns]"
      ]
     },
     "execution_count": 6,
     "metadata": {},
     "output_type": "execute_result"
    }
   ],
   "source": [
    "logs"
   ]
  },
  {
   "cell_type": "markdown",
   "id": "5a605b8f",
   "metadata": {},
   "source": [
    "### 2. Create a route pyramid"
   ]
  },
  {
   "cell_type": "code",
   "execution_count": 7,
   "id": "146e20b6",
   "metadata": {
    "scrolled": false
   },
   "outputs": [
    {
     "data": {
      "image/png": "[encoded data removed]",
      "text/plain": [
       "<Figure size 576x576 with 1 Axes>"
      ]
     },
     "metadata": {
      "needs_background": "light"
     },
     "output_type": "display_data"
    }
   ],
   "source": [
    "fig = plot_gradepyramid(logs, aggtype='sum', gradesystem='french', legend=True)"
   ]
  },
  {
   "cell_type": "code",
   "execution_count": 8,
   "id": "76c7203e",
   "metadata": {},
   "outputs": [
    {
     "data": {
      "text/plain": [
       "Text(34.0, 5.12a, '')"
      ]
     },
     "execution_count": 8,
     "metadata": {},
     "output_type": "execute_result"
    },
    {
     "data": {
      "image/png": "[encoded data removed]",
      "text/plain": [
       "<Figure size 1152x576 with 2 Axes>"
      ]
     },
     "metadata": {
      "needs_background": "light"
     },
     "output_type": "display_data"
    }
   ],
   "source": [
    "fig = plot_doublegradepyramid(logs, aggtype='sum', gradesystem='usa')\n",
    "ax1, ax2 = fig.get_axes()\n",
    "x1max = ax1.get_xlim()[0]\n",
    "x2max = ax2.get_xlim()[-1]\n",
    "ax1.annotate(\"\", \n",
    "             xy=(x1max - 8, get_maxgrade_flash(logs[logs['style'] == 'lead'], gradesystem='usa')),\n",
    "             xytext=(x1max - 5, get_maxgrade_flash(logs[logs['style'] == 'lead'], gradesystem='usa')),\n",
    "             arrowprops=dict(arrowstyle=\"->\", lw=3))\n",
    "ax2.annotate(\"\", \n",
    "             xy=(x2max - 8, get_maxgrade_flash(logs[logs['style'] == 'toprope'], gradesystem='usa')),\n",
    "             xytext=(x2max - 5, get_maxgrade_flash(logs[logs['style'] == 'toprope'], gradesystem='usa')),\n",
    "             arrowprops=dict(arrowstyle=\"->\", lw=3))"
   ]
  },
  {
   "cell_type": "code",
   "execution_count": null,
   "id": "605b516e",
   "metadata": {},
   "outputs": [
    {
     "data": {
      "text/plain": [
       "Text(46.0, 7a+, '')"
      ]
     },
     "execution_count": 9,
     "metadata": {},
     "output_type": "execute_result"
    }
   ],
   "source": [
    "fig = plot_doublegradepyramid(logs, aggtype='sum', gradesystem='french')\n",
    "ax1, ax2 = fig.get_axes()\n",
    "x1max = ax1.get_xlim()[0]\n",
    "x2max = ax2.get_xlim()[-1]\n",
    "ax1.annotate(\"\", \n",
    "             xy=(x1max - 8, get_maxgrade_flash(logs[logs['style'] == 'lead'], gradesystem='french')),\n",
    "             xytext=(x1max - 5, get_maxgrade_flash(logs[logs['style'] == 'lead'], gradesystem='french')),\n",
    "             arrowprops=dict(arrowstyle=\"->\", lw=3))\n",
    "ax2.annotate(\"\", \n",
    "             xy=(x2max - 8, get_maxgrade_flash(logs[logs['style'] == 'toprope'], gradesystem='french')),\n",
    "             xytext=(x2max - 5, get_maxgrade_flash(logs[logs['style'] == 'toprope'], gradesystem='french')),\n",
    "             arrowprops=dict(arrowstyle=\"->\", lw=3))"
   ]
  },
  {
   "cell_type": "markdown",
   "id": "992e68e4",
   "metadata": {},
   "source": [
    "### 3. Plot weekly summary figure"
   ]
  },
  {
   "cell_type": "code",
   "execution_count": null,
   "id": "bb58d49f",
   "metadata": {},
   "outputs": [],
   "source": [
    "fig = plot_weeklysummary(logs, gradesystem='french')"
   ]
  },
  {
   "cell_type": "code",
   "execution_count": null,
   "id": "5f4cb0d4",
   "metadata": {},
   "outputs": [],
   "source": [
    "fig = plot_monthlysummary(logs, gradesystem='french')"
   ]
  },
  {
   "cell_type": "code",
   "execution_count": null,
   "id": "71441f62",
   "metadata": {},
   "outputs": [],
   "source": [
    "fig = plot_monthlysummary(logs, gradesystem='usa')"
   ]
  },
  {
   "cell_type": "code",
   "execution_count": null,
   "id": "9a793a1c",
   "metadata": {
    "scrolled": false
   },
   "outputs": [],
   "source": [
    "fig = plot_weeklysummary(logs, gradesystem='usa')"
   ]
  },
  {
   "cell_type": "markdown",
   "id": "c9b5b471",
   "metadata": {},
   "source": [
    "### 4. Further testing"
   ]
  },
  {
   "cell_type": "code",
   "execution_count": null,
   "id": "99bf050f",
   "metadata": {},
   "outputs": [],
   "source": [
    "pyrm = (logs[logs['ascension_type'] == 'redpoint']\n",
    "        .groupby(['week', 'grade_french'])\n",
    "        .agg(sends=('sends', 'sum'),\n",
    "            )\n",
    "       )\n",
    "\n",
    "temp = (logs[logs['ascension_type'] == 'redpoint']\n",
    "        .groupby('week')\n",
    "        .agg(sends_total=('sends', 'sum'),\n",
    "            )\n",
    "       )\n",
    "\n",
    "# Join the two dataframes\n",
    "pyrm = pyrm.reset_index()\n",
    "temp = temp.reset_index()\n",
    "\n",
    "pyrm = pyrm.merge(temp, on=['week'], how='left')\n",
    "\n",
    "pyrm['sends_percentage'] = pyrm['sends'] / pyrm['sends_total']\n",
    "pyrm.loc[:, 'sends_percentage'] = pyrm.loc[:, 'sends_percentage'].fillna(0.)\n",
    "\n",
    "# Perform pivot\n",
    "pyrm = pyrm.pivot(index='grade_french', columns='week', values='sends_percentage')\n",
    "\n",
    "pyrm = pyrm.drop(index=['1', '2', '3', \n",
    "                        '7c+', '8a', '8a+', '8b',\n",
    "                       ])\n",
    "\n",
    "pyrm\n",
    "\n",
    "import seaborn as sns\n",
    "\n",
    "fig = plt.figure(figsize=(16,16))\n",
    "ax = fig.add_subplot(111)\n",
    "sns.heatmap(pyrm, cmap='Blues', ax=ax)\n",
    "ax.invert_yaxis()"
   ]
  },
  {
   "cell_type": "code",
   "execution_count": null,
   "id": "fcabc22b",
   "metadata": {},
   "outputs": [],
   "source": [
    "pyrm = (logs[logs['ascension_type'] == 'flash']\n",
    "        .groupby(['date', 'grade_french'])\n",
    "        .agg(sends=('sends', 'sum'),\n",
    "            )\n",
    "       )\n",
    "\n",
    "temp = (logs[logs['ascension_type'] == 'flash']\n",
    "        .groupby('date')\n",
    "        .agg(sends_total=('sends', 'sum'),\n",
    "            )\n",
    "       )\n",
    "\n",
    "# Join the two dataframes\n",
    "pyrm = pyrm.reset_index()\n",
    "temp = temp.reset_index()\n",
    "\n",
    "pyrm = pyrm.merge(temp, on=['date'], how='left')\n",
    "\n",
    "pyrm['sends_percentage'] = pyrm['sends'] / pyrm['sends_total']\n",
    "pyrm.loc[:, 'sends_percentage'] = pyrm.loc[:, 'sends_percentage'].fillna(0.)\n",
    "\n",
    "# Perform pivot\n",
    "#pyrm = pyrm.pivot(index='grade_french', columns='date', values='sends_percentage')\n",
    "pyrm = pyrm.pivot(index='grade_french', columns='date', values='sends')\n",
    "\n",
    "pyrm = pyrm.drop(index=['1', '2', '3', \n",
    "                        '7c+', '8a', '8a+', '8b',\n",
    "                       ])\n",
    "\n",
    "pyrm\n",
    "\n",
    "import seaborn as sns\n",
    "\n",
    "fig = plt.figure(figsize=(16,16))\n",
    "ax = fig.add_subplot(111)\n",
    "sns.heatmap(pyrm, cmap='Blues', ax=ax)\n",
    "ax.invert_yaxis()"
   ]
  },
  {
   "cell_type": "code",
   "execution_count": null,
   "id": "95ea60c2",
   "metadata": {},
   "outputs": [],
   "source": [
    "from matplotlib import rc, rcParams\n",
    "import matplotlib.gridspec as gridspec\n",
    "from matplotlib.ticker import MultipleLocator, FixedLocator, FixedFormatter\n",
    "rc('xtick', labelsize=15) \n",
    "rc('ytick', labelsize=15) \n",
    "rc(\"lines\", markeredgewidth=2.0)\n",
    "rc(\"axes\", linewidth=2.0)\n",
    "rc('font', family='serif')\n",
    "rcParams[\"font.size\"] = 15\n",
    "rcParams['xtick.direction'] = 'out'\n",
    "rcParams['ytick.direction'] = 'out'"
   ]
  },
  {
   "cell_type": "code",
   "execution_count": null,
   "id": "6b6cec73",
   "metadata": {
    "scrolled": false
   },
   "outputs": [],
   "source": [
    "fig = plt.figure(figsize=(8,8))\n",
    "gs = gridspec.GridSpec(1, 8, width_ratios=[1,1,1,1,1,1,1,1])\n",
    "ax = fig.add_subplot(gs[0,:7])\n",
    "axcb = fig.add_axes(gs[0,7].get_position(fig))\n",
    "\n",
    "pos = ax.imshow(pyrm.values, cmap='Blues', interpolation='none', aspect='auto', origin='lower')\n",
    "\n",
    "cbar = fig.colorbar(pos, cax=axcb, format='%1.1f')\n",
    "cbar.set_label('Percentage of routes during session')\n",
    "\n",
    "ax.xaxis.set_major_locator(FixedLocator([ii for ii in range(pyrm.shape[1])]))\n",
    "ax.yaxis.set_major_locator(FixedLocator([ii for ii in range(pyrm.shape[0])]))\n",
    "ax.set_xticklabels([val.strftime('%Y-%m-%d') for val in pyrm.columns.to_list()],\n",
    "                   rotation=90)\n",
    "ax.set_yticklabels(pyrm.index.to_list())\n",
    "ax.tick_params(axis='both',which='major',length=10,width=2)\n",
    "\n",
    "axcb.grid(color='k')\n",
    "axcb.tick_params(left='on')"
   ]
  },
  {
   "cell_type": "code",
   "execution_count": null,
   "id": "a652098e",
   "metadata": {},
   "outputs": [],
   "source": []
  }
 ],
 "metadata": {
  "kernelspec": {
   "display_name": "Python 3 (ipykernel)",
   "language": "python",
   "name": "python3"
  },
  "language_info": {
   "codemirror_mode": {
    "name": "ipython",
    "version": 3
   },
   "file_extension": ".py",
   "mimetype": "text/x-python",
   "name": "python",
   "nbconvert_exporter": "python",
   "pygments_lexer": "ipython3",
   "version": "3.9.12"
  }
 },
 "nbformat": 4,
 "nbformat_minor": 5
}

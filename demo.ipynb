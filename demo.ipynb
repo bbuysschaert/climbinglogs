{
 "cells": [
  {
   "cell_type": "markdown",
   "id": "90c61313",
   "metadata": {},
   "source": [
    "# Climbing logs: exploration\n",
    "\n",
    "Exploration of the usability of the logs"
   ]
  },
  {
   "cell_type": "markdown",
   "id": "da24e47b",
   "metadata": {},
   "source": [
    "### 0. Variables and dependencies"
   ]
  },
  {
   "cell_type": "code",
   "execution_count": null,
   "id": "2a763928",
   "metadata": {},
   "outputs": [],
   "source": [
    "import pandas as pd\n",
    "import numpy as np\n",
    "import datetime\n",
    "\n",
    "import matplotlib.pyplot as plt"
   ]
  },
  {
   "cell_type": "code",
   "execution_count": null,
   "id": "567ea385",
   "metadata": {},
   "outputs": [],
   "source": [
    "from climb.extraction import extract_climbinglogs, extract_sessionlogs\n",
    "from climb.diagram import plot_doublegradepyramid"
   ]
  },
  {
   "cell_type": "code",
   "execution_count": null,
   "id": "b02c725f",
   "metadata": {},
   "outputs": [],
   "source": [
    "from climb.extraction import create_ordinalcats_ascensions"
   ]
  },
  {
   "cell_type": "code",
   "execution_count": null,
   "id": "3c374ad1",
   "metadata": {},
   "outputs": [],
   "source": [
    "filein = './data/climbinglogs.xlsx'"
   ]
  },
  {
   "cell_type": "markdown",
   "id": "2a675532",
   "metadata": {},
   "source": [
    "### 1. Read in the data"
   ]
  },
  {
   "cell_type": "code",
   "execution_count": null,
   "id": "c29a999d",
   "metadata": {},
   "outputs": [],
   "source": [
    "logs = extract_climbinglogs(filein,\n",
    "                            cols_ffill=['date', 'climbing_gym', 'grade']\n",
    "                           )"
   ]
  },
  {
   "cell_type": "code",
   "execution_count": null,
   "id": "4361da4f",
   "metadata": {},
   "outputs": [],
   "source": [
    "logs"
   ]
  },
  {
   "cell_type": "markdown",
   "id": "29b8aaa3",
   "metadata": {},
   "source": [
    "### 2. Create a route pyramid"
   ]
  },
  {
   "cell_type": "code",
   "execution_count": null,
   "id": "9e9737f9",
   "metadata": {},
   "outputs": [],
   "source": [
    "fig = plot_doublegradepyramid(logs, aggtype='sum', gradesystem='french')\n",
    "fig = plot_doublegradepyramid(logs, aggtype='sum', gradesystem='usa')"
   ]
  },
  {
   "cell_type": "code",
   "execution_count": null,
   "id": "b49f9878",
   "metadata": {},
   "outputs": [],
   "source": []
  }
 ],
 "metadata": {
  "kernelspec": {
   "display_name": "Python 3 (ipykernel)",
   "language": "python",
   "name": "python3"
  },
  "language_info": {
   "codemirror_mode": {
    "name": "ipython",
    "version": 3
   },
   "file_extension": ".py",
   "mimetype": "text/x-python",
   "name": "python",
   "nbconvert_exporter": "python",
   "pygments_lexer": "ipython3",
   "version": "3.9.12"
  }
 },
 "nbformat": 4,
 "nbformat_minor": 5
}

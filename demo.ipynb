{
 "cells": [
  {
   "cell_type": "markdown",
   "id": "90c61313",
   "metadata": {},
   "source": [
    "# Climbing logs: exploration\n",
    "\n",
    "Exploration of the usability of the logs"
   ]
  },
  {
   "cell_type": "markdown",
   "id": "da24e47b",
   "metadata": {},
   "source": [
    "### 0. Variables and dependencies"
   ]
  },
  {
   "cell_type": "code",
   "execution_count": 1,
   "id": "2a763928",
   "metadata": {},
   "outputs": [],
   "source": [
    "import pandas as pd\n",
    "import numpy as np\n",
    "import datetime\n",
    "\n",
    "import matplotlib.pyplot as plt"
   ]
  },
  {
   "cell_type": "code",
   "execution_count": 2,
   "id": "567ea385",
   "metadata": {},
   "outputs": [],
   "source": [
    "from climb.extraction import extract_climbinglogs, extract_sessionlogs\n",
    "from climb.aggregation import compute_gradepyramid_basic, get_maxgrade_flash, get_mediangrade, compute_gradepyramid\n",
    "from climb.diagram import plot_doublegradepyramid, plot_gradepyramid"
   ]
  },
  {
   "cell_type": "code",
   "execution_count": 3,
   "id": "3c374ad1",
   "metadata": {},
   "outputs": [],
   "source": [
    "filein = './data/climbinglogs.xlsx'"
   ]
  },
  {
   "cell_type": "markdown",
   "id": "2a675532",
   "metadata": {},
   "source": [
    "### 1. Read in the data"
   ]
  },
  {
   "cell_type": "code",
   "execution_count": 4,
   "id": "13b8ec3d",
   "metadata": {},
   "outputs": [],
   "source": [
    "from climb.grade import import_gradestable"
   ]
  },
  {
   "cell_type": "code",
   "execution_count": 5,
   "id": "6fa093cc",
   "metadata": {},
   "outputs": [],
   "source": [
    "grades = import_gradestable()"
   ]
  },
  {
   "cell_type": "code",
   "execution_count": null,
   "id": "8460e570",
   "metadata": {},
   "outputs": [],
   "source": [
    "# Need strategy to determine max or min level grade when converting\n",
    "# Table can be used to create the mappings\n",
    "\n",
    "# Table can be used to create the CategoricalValues"
   ]
  },
  {
   "cell_type": "code",
   "execution_count": 11,
   "id": "926a8a5d",
   "metadata": {},
   "outputs": [],
   "source": [
    "def create_grademap(grade_source, grade_dest, method='lowest') -> dict:\n",
    "    \"\"\"Create a grademap that can be used to convert the source grade into the destination grade\"\"\"\n",
    "    grades = import_gradestable()\n",
    "    \n",
    "    temp = [(ss, dd) for ss, dd in zip(grades[grade_source], grades[grade_dest])]\n",
    "    return temp"
   ]
  },
  {
   "cell_type": "code",
   "execution_count": 16,
   "id": "8b3fac53",
   "metadata": {},
   "outputs": [
    {
     "data": {
      "text/plain": [
       "{'VB': '3',\n",
       " 'V0': '4b',\n",
       " 'V0+': '4c',\n",
       " 'V1': '5b',\n",
       " 'V2': '5c',\n",
       " 'V3': '6a+',\n",
       " 'V4': '6b+',\n",
       " 'V5': '6c+',\n",
       " 'V6': '7a',\n",
       " 'V7': '7a+',\n",
       " 'V8': '7b+',\n",
       " 'V9': '7c',\n",
       " 'V10': '7c+',\n",
       " 'V11': '8a',\n",
       " 'V12': '8a+',\n",
       " 'V13': '8b',\n",
       " 'V14': '8b+',\n",
       " 'V15': '8c'}"
      ]
     },
     "execution_count": 16,
     "metadata": {},
     "output_type": "execute_result"
    }
   ],
   "source": [
    "temp = {}\n",
    "for kk, vv in create_grademap('v-bouldering', 'french'):\n",
    "    if kk not in temp:\n",
    "        temp[kk] = vv\n",
    "    else:\n",
    "        temp[kk] = vv\n",
    "        pass\n",
    "temp"
   ]
  },
  {
   "cell_type": "code",
   "execution_count": 20,
   "id": "d27a574d",
   "metadata": {},
   "outputs": [
    {
     "data": {
      "text/plain": [
       "['V0',\n",
       " 'V0+',\n",
       " 'V1',\n",
       " 'V10',\n",
       " 'V11',\n",
       " 'V12',\n",
       " 'V13',\n",
       " 'V14',\n",
       " 'V15',\n",
       " 'V2',\n",
       " 'V3',\n",
       " 'V4',\n",
       " 'V5',\n",
       " 'V6',\n",
       " 'V7',\n",
       " 'V8',\n",
       " 'V9',\n",
       " 'VB']"
      ]
     },
     "execution_count": 20,
     "metadata": {},
     "output_type": "execute_result"
    }
   ],
   "source": [
    "sorted(grades['v-bouldering'].unique())"
   ]
  },
  {
   "cell_type": "code",
   "execution_count": null,
   "id": "f856fe2a",
   "metadata": {},
   "outputs": [],
   "source": []
  },
  {
   "cell_type": "code",
   "execution_count": null,
   "id": "0b35d097",
   "metadata": {},
   "outputs": [],
   "source": [
    "logs = extract_climbinglogs(filein,\n",
    "                            cols_ffill=['date', 'climbing_gym', 'grade']\n",
    "                           )"
   ]
  },
  {
   "cell_type": "code",
   "execution_count": null,
   "id": "4361da4f",
   "metadata": {},
   "outputs": [],
   "source": [
    "logs"
   ]
  },
  {
   "cell_type": "markdown",
   "id": "5a605b8f",
   "metadata": {},
   "source": [
    "### 2. Create a route pyramid"
   ]
  },
  {
   "cell_type": "code",
   "execution_count": null,
   "id": "146e20b6",
   "metadata": {},
   "outputs": [],
   "source": [
    "fig = plot_gradepyramid(logs, aggtype='sum', gradesystem='french')"
   ]
  },
  {
   "cell_type": "code",
   "execution_count": null,
   "id": "605b516e",
   "metadata": {},
   "outputs": [],
   "source": [
    "fig = plot_doublegradepyramid(logs, aggtype='sum', gradesystem='french')\n",
    "ax1, ax2 = fig.get_axes()\n",
    "\n",
    "ax1.annotate(\"\", \n",
    "             xy=(11, get_maxgrade_flash(logs[logs['style'] == 'lead'], gradesystem='french')),\n",
    "             xytext=(12, get_maxgrade_flash(logs[logs['style'] == 'lead'], gradesystem='french')),\n",
    "             arrowprops=dict(arrowstyle=\"->\", lw=3))\n",
    "ax2.annotate(\"\", \n",
    "             xy=(11, get_maxgrade_flash(logs[logs['style'] == 'toprope'], gradesystem='french')),\n",
    "             xytext=(12, get_maxgrade_flash(logs[logs['style'] == 'toprope'], gradesystem='french')),\n",
    "             arrowprops=dict(arrowstyle=\"->\", lw=3))"
   ]
  },
  {
   "cell_type": "code",
   "execution_count": null,
   "id": "3e050a84",
   "metadata": {},
   "outputs": [],
   "source": [
    "temp = logs['grade_french'].sort_values().to_list()\n",
    "if len(temp) % 2 == 0:\n",
    "    print(temp[int((len(temp)) / 2)])\n",
    "else:\n",
    "    print(temp[int((len(temp) + 1) / 2)])"
   ]
  },
  {
   "cell_type": "code",
   "execution_count": null,
   "id": "48ca31eb",
   "metadata": {},
   "outputs": [],
   "source": [
    "logs['week'] = logs['date'].dt.isocalendar().week"
   ]
  },
  {
   "cell_type": "code",
   "execution_count": null,
   "id": "99bf050f",
   "metadata": {},
   "outputs": [],
   "source": [
    "pyrm = (logs[logs['ascension_type'] == 'redpoint']\n",
    "        .groupby(['week', 'grade_french'])\n",
    "        .agg(sends=('sends', 'sum'),\n",
    "            )\n",
    "       )\n",
    "\n",
    "temp = (logs[logs['ascension_type'] == 'redpoint']\n",
    "        .groupby('week')\n",
    "        .agg(sends_total=('sends', 'sum'),\n",
    "            )\n",
    "       )\n",
    "\n",
    "# Join the two dataframes\n",
    "pyrm = pyrm.reset_index()\n",
    "temp = temp.reset_index()\n",
    "\n",
    "pyrm = pyrm.merge(temp, on=['week'], how='left')\n",
    "\n",
    "pyrm['sends_percentage'] = pyrm['sends'] / pyrm['sends_total']\n",
    "pyrm.loc[:, 'sends_percentage'] = pyrm.loc[:, 'sends_percentage'].fillna(0.)\n",
    "\n",
    "# Perform pivot\n",
    "pyrm = pyrm.pivot(index='grade_french', columns='week', values='sends_percentage')\n",
    "\n",
    "pyrm = pyrm.drop(index=['1', '2', '3', \n",
    "                        '7c+', '8a', '8a+', '8b',\n",
    "                       ])\n",
    "\n",
    "pyrm\n",
    "\n",
    "import seaborn as sns\n",
    "\n",
    "fig = plt.figure(figsize=(16,16))\n",
    "ax = fig.add_subplot(111)\n",
    "sns.heatmap(pyrm, cmap='Blues', ax=ax)\n",
    "ax.invert_yaxis()"
   ]
  },
  {
   "cell_type": "code",
   "execution_count": null,
   "id": "fcabc22b",
   "metadata": {},
   "outputs": [],
   "source": [
    "pyrm = (logs[logs['ascension_type'] == 'flash']\n",
    "        .groupby(['date', 'grade_french'])\n",
    "        .agg(sends=('sends', 'sum'),\n",
    "            )\n",
    "       )\n",
    "\n",
    "temp = (logs[logs['ascension_type'] == 'flash']\n",
    "        .groupby('date')\n",
    "        .agg(sends_total=('sends', 'sum'),\n",
    "            )\n",
    "       )\n",
    "\n",
    "# Join the two dataframes\n",
    "pyrm = pyrm.reset_index()\n",
    "temp = temp.reset_index()\n",
    "\n",
    "pyrm = pyrm.merge(temp, on=['date'], how='left')\n",
    "\n",
    "pyrm['sends_percentage'] = pyrm['sends'] / pyrm['sends_total']\n",
    "pyrm.loc[:, 'sends_percentage'] = pyrm.loc[:, 'sends_percentage'].fillna(0.)\n",
    "\n",
    "# Perform pivot\n",
    "pyrm = pyrm.pivot(index='grade_french', columns='date', values='sends_percentage')\n",
    "\n",
    "pyrm = pyrm.drop(index=['1', '2', '3', \n",
    "                        '7c+', '8a', '8a+', '8b',\n",
    "                       ])\n",
    "\n",
    "pyrm\n",
    "\n",
    "import seaborn as sns\n",
    "\n",
    "fig = plt.figure(figsize=(16,16))\n",
    "ax = fig.add_subplot(111)\n",
    "sns.heatmap(pyrm, cmap='Blues', ax=ax)\n",
    "ax.invert_yaxis()"
   ]
  },
  {
   "cell_type": "code",
   "execution_count": null,
   "id": "95ea60c2",
   "metadata": {},
   "outputs": [],
   "source": [
    "from matplotlib import rc, rcParams\n",
    "import matplotlib.gridspec as gridspec\n",
    "from matplotlib.ticker import MultipleLocator, FixedLocator, FixedFormatter\n",
    "rc('xtick', labelsize=15) \n",
    "rc('ytick', labelsize=15) \n",
    "rc(\"lines\", markeredgewidth=2.0)\n",
    "rc(\"axes\", linewidth=2.0)\n",
    "rc('font', family='serif')\n",
    "rcParams[\"font.size\"] = 15\n",
    "rcParams['xtick.direction'] = 'out'\n",
    "rcParams['ytick.direction'] = 'out'"
   ]
  },
  {
   "cell_type": "code",
   "execution_count": null,
   "id": "2c6d3d4e",
   "metadata": {},
   "outputs": [],
   "source": [
    "pyrm"
   ]
  },
  {
   "cell_type": "code",
   "execution_count": null,
   "id": "6b6cec73",
   "metadata": {
    "scrolled": false
   },
   "outputs": [],
   "source": [
    "fig = plt.figure(figsize=(8,8))\n",
    "gs = gridspec.GridSpec(1, 8, width_ratios=[1,1,1,1,1,1,1,1])\n",
    "ax = fig.add_subplot(gs[0,:7])\n",
    "axcb = fig.add_axes(gs[0,7].get_position(fig))\n",
    "\n",
    "pos = ax.imshow(pyrm.values, cmap='Blues', interpolation='none', aspect='auto', origin='lower')\n",
    "\n",
    "cbar = fig.colorbar(pos, cax=axcb, format='%1.1f')\n",
    "cbar.set_label('Percentage of routes during session')\n",
    "\n",
    "ax.xaxis.set_major_locator(FixedLocator([ii for ii in range(pyrm.shape[1])]))\n",
    "ax.yaxis.set_major_locator(FixedLocator([ii for ii in range(pyrm.shape[0])]))\n",
    "ax.set_xticklabels([val.strftime('%Y-%m-%d') for val in pyrm.columns.to_list()],\n",
    "                   rotation=90)\n",
    "ax.set_yticklabels(pyrm.index.to_list())\n",
    "ax.tick_params(axis='both',which='major',length=10,width=2)\n",
    "\n",
    "axcb.grid(color='k')\n",
    "axcb.tick_params(left='on')"
   ]
  },
  {
   "cell_type": "code",
   "execution_count": null,
   "id": "7efe217c",
   "metadata": {},
   "outputs": [],
   "source": [
    "temp"
   ]
  },
  {
   "cell_type": "code",
   "execution_count": null,
   "id": "9535f0ce",
   "metadata": {},
   "outputs": [],
   "source": [
    "logs[logs['grade_french'] == '7b+']"
   ]
  },
  {
   "cell_type": "code",
   "execution_count": null,
   "id": "882c535b",
   "metadata": {},
   "outputs": [],
   "source": [
    "cond = (logs['ascension_type'] != 'not topped') & (logs['style'] != 'boulder') & (logs['style'] != 'autobelay')\n",
    "temp = logs[cond]\n",
    "temp = (pd.DataFrame(temp.values.repeat(temp.sends,\n",
    "                                        axis=0),\n",
    "                     columns=temp.columns\n",
    "                    )\n",
    "        .astype(temp.dtypes)\n",
    "       )\n",
    "temp = temp.groupby('week').agg(maxgrade=('grade_french', 'max'),\n",
    "                                mediangrade=('grade_french', get_mediangrade),\n",
    "                                mingrade=('grade_french', 'min'),\n",
    "                               )\n",
    "\n",
    "\n",
    "import json\n",
    "with open('./climb/grades.json') as ff:\n",
    "    grades = json.load(ff)['french2usa']\n",
    "grade_map = {kk:vv for kk, vv in zip(grades.keys(), range(len(grades)))}\n",
    "\n",
    "temp['maxgrade_int'] = [grade_map[val] for val in temp['maxgrade']]\n",
    "temp['mediangrade_int'] = [grade_map[val] for val in temp['mediangrade']]\n",
    "temp['mingrade_int'] = [grade_map[val] for val in temp['mingrade']]\n",
    "\n",
    "\n",
    "from matplotlib.ticker import FormatStrFormatter, MultipleLocator\n",
    "\n",
    "fig = plt.figure(figsize=(16,8))\n",
    "ax = fig.add_subplot(111)\n",
    "ax.plot(temp.index, temp['maxgrade_int'], 'k-v')\n",
    "ax.plot(temp.index, temp['mediangrade_int'], 'k-s')\n",
    "ax.plot(temp.index, temp['mingrade_int'], 'k-^')\n",
    "ax.fill_between(temp.index.to_list(), temp['mingrade_int'].values, temp['maxgrade_int'].values, color='k', alpha=.2)\n",
    "\n",
    "# Determine min and max of the grades plotted\n",
    "grade_plotmin = temp.loc[:, ['maxgrade', 'mediangrade', 'mingrade']].min().min()\n",
    "grade_plotmax = temp.loc[:, ['maxgrade', 'mediangrade', 'mingrade']].max().max()\n",
    "\n",
    "# Determine the list of labels\n",
    "grade_invmap = {vv:kk for kk, vv in grade_map.items()}\n",
    "labels = [grade_invmap[vv] for vv in range(grade_map[grade_plotmin] - 2, grade_map[grade_plotmax] + 1, 1)]\n",
    "# WARNING\n",
    "# Need to determine why this is -2, instead of -1\n",
    "\n",
    "ax.set_ylim([grade_map[grade_plotmin] - 1, \n",
    "             grade_map[grade_plotmax] + 1\n",
    "            ])\n",
    "             \n",
    "ax.yaxis.set_major_locator(MultipleLocator(1))\n",
    "ax.set_yticklabels(labels)\n",
    "\n",
    "ax.xaxis.set_major_locator(MultipleLocator(1))\n",
    "ax.xaxis.set_major_formatter(FormatStrFormatter('%.0f'))\n",
    "ax.grid(color='k', alpha=.1)\n",
    "ax.set_ylabel('Climbing grade (french system)')\n",
    "ax.set_xlabel('Week number')\n",
    "\n"
   ]
  },
  {
   "cell_type": "code",
   "execution_count": null,
   "id": "275c0408",
   "metadata": {},
   "outputs": [],
   "source": [
    "cond = (logs['ascension_type'] != 'not topped') & (logs['style'] != 'boulder') & (logs['style'] != 'autobelay')\n",
    "temp = logs[cond]\n",
    "temp = (pd.DataFrame(temp.values.repeat(temp.sends,\n",
    "                                        axis=0),\n",
    "                     columns=temp.columns\n",
    "                    )\n",
    "        .astype(temp.dtypes)\n",
    "       )\n",
    "temp = temp.groupby('week').agg(maxgrade=('grade_french', 'max'),\n",
    "                                mediangrade=('grade_french', get_mediangrade),\n",
    "                                mingrade=('grade_french', 'min'),\n",
    "                               )\n",
    "\n",
    "\n",
    "import json\n",
    "with open('./climb/grades.json') as ff:\n",
    "    grades = json.load(ff)['french2usa']\n",
    "grade_map = {kk:vv for kk, vv in zip(grades.keys(), range(len(grades)))}\n",
    "\n",
    "temp['maxgrade_int'] = [grade_map[val] for val in temp['maxgrade']]\n",
    "temp['mediangrade_int'] = [grade_map[val] for val in temp['mediangrade']]\n",
    "temp['mingrade_int'] = [grade_map[val] for val in temp['mingrade']]\n",
    "temp"
   ]
  },
  {
   "cell_type": "code",
   "execution_count": null,
   "id": "91c74e76",
   "metadata": {},
   "outputs": [],
   "source": [
    "cond = (logs['ascension_type'] == 'flash') & (logs['style'] != 'boulder') & (logs['style'] != 'autobelay')\n",
    "temp = logs[cond]\n",
    "temp = (pd.DataFrame(temp.values.repeat(temp.sends,\n",
    "                                        axis=0),\n",
    "                     columns=temp.columns\n",
    "                    )\n",
    "        .astype(temp.dtypes)\n",
    "       )\n",
    "temp = temp.groupby('week').agg(maxgrade=('grade_french', 'max'),\n",
    "                                mediangrade=('grade_french', get_mediangrade),\n",
    "                                mingrade=('grade_french', 'min'),\n",
    "                               )\n",
    "\n",
    "\n",
    "import json\n",
    "with open('./climb/grades.json') as ff:\n",
    "    grades = json.load(ff)['french2usa']\n",
    "grade_map = {kk:vv for kk, vv in zip(grades.keys(), range(len(grades)))}\n",
    "\n",
    "temp['maxgrade_int'] = [grade_map[val] for val in temp['maxgrade']]\n",
    "temp['mediangrade_int'] = [grade_map[val] for val in temp['mediangrade']]\n",
    "temp['mingrade_int'] = [grade_map[val] for val in temp['mingrade']]\n",
    "temp"
   ]
  },
  {
   "cell_type": "code",
   "execution_count": null,
   "id": "7d2ec936",
   "metadata": {},
   "outputs": [],
   "source": [
    "cond = (logs['ascension_type'] == 'redpoint') & (logs['style'] != 'boulder') & (logs['style'] != 'autobelay')\n",
    "temp = logs[cond]\n",
    "temp = (pd.DataFrame(temp.values.repeat(temp.sends,\n",
    "                                        axis=0),\n",
    "                     columns=temp.columns\n",
    "                    )\n",
    "        .astype(temp.dtypes)\n",
    "       )\n",
    "temp = temp.groupby('week').agg(maxgrade=('grade_french', 'max'),\n",
    "                                mediangrade=('grade_french', get_mediangrade),\n",
    "                                mingrade=('grade_french', 'min'),\n",
    "                               )\n",
    "\n",
    "\n",
    "import json\n",
    "with open('./climb/grades.json') as ff:\n",
    "    grades = json.load(ff)['french2usa']\n",
    "grade_map = {kk:vv for kk, vv in zip(grades.keys(), range(len(grades)))}\n",
    "\n",
    "temp['maxgrade_int'] = [grade_map[val] for val in temp['maxgrade']]\n",
    "temp['mediangrade_int'] = [grade_map[val] for val in temp['mediangrade']]\n",
    "temp['mingrade_int'] = [grade_map[val] for val in temp['mingrade']]\n",
    "temp"
   ]
  },
  {
   "cell_type": "code",
   "execution_count": null,
   "id": "a904048d",
   "metadata": {},
   "outputs": [],
   "source": [
    "fig = plt.figure(figsize=(16,8))\n",
    "ax = fig.add_subplot(111)\n",
    "ax.errorbar(temp.index, temp['mediangrade_int'],\n",
    "            yerr=np.vstack((temp['mediangrade_int'] - temp['mingrade_int'], temp['maxgrade_int'] - temp['mediangrade_int'])),\n",
    "            color='k',\n",
    "            marker='s',\n",
    "            ecolor='gray',\n",
    "            capsize=8,\n",
    "            capthick=2,\n",
    "            elinewidth=2,\n",
    "            ms=14\n",
    "           )\n",
    "\n",
    "# Determine min and max of the grades plotted\n",
    "grade_plotmin = temp.loc[:, ['maxgrade', 'mediangrade', 'mingrade']].min().min()\n",
    "grade_plotmax = temp.loc[:, ['maxgrade', 'mediangrade', 'mingrade']].max().max()\n",
    "\n",
    "# Determine the list of labels\n",
    "grade_invmap = {vv:kk for kk, vv in grade_map.items()}\n",
    "labels = [grade_invmap[vv] for vv in range(grade_map[grade_plotmin] - 1, grade_map[grade_plotmax] + 2, 1)]\n",
    "\n",
    "ax.set_ylim([grade_map[grade_plotmin] - 1, \n",
    "             grade_map[grade_plotmax] + 1\n",
    "            ])\n",
    "             \n",
    "ax.yaxis.set_major_locator(MultipleLocator(1))\n",
    "ax.set_yticklabels(labels)\n",
    "\n",
    "ax.xaxis.set_major_locator(MultipleLocator(1))\n",
    "ax.xaxis.set_major_formatter(FormatStrFormatter('%.0f'))\n",
    "ax.grid(color='k', alpha=.1)\n",
    "ax.set_ylabel('Climbing grade (french system)')\n",
    "ax.set_xlabel('Week number')"
   ]
  },
  {
   "cell_type": "code",
   "execution_count": null,
   "id": "a652098e",
   "metadata": {},
   "outputs": [],
   "source": []
  }
 ],
 "metadata": {
  "kernelspec": {
   "display_name": "Python 3 (ipykernel)",
   "language": "python",
   "name": "python3"
  },
  "language_info": {
   "codemirror_mode": {
    "name": "ipython",
    "version": 3
   },
   "file_extension": ".py",
   "mimetype": "text/x-python",
   "name": "python",
   "nbconvert_exporter": "python",
   "pygments_lexer": "ipython3",
   "version": "3.9.12"
  }
 },
 "nbformat": 4,
 "nbformat_minor": 5
}

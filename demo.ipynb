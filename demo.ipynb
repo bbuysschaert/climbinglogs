{
 "cells": [
  {
   "cell_type": "markdown",
   "id": "90c61313",
   "metadata": {},
   "source": [
    "# Climbing logs: exploration\n",
    "\n",
    "Exploration of the usability of the logs"
   ]
  },
  {
   "cell_type": "markdown",
   "id": "da24e47b",
   "metadata": {},
   "source": [
    "### 0. Variables and dependencies"
   ]
  },
  {
   "cell_type": "code",
   "execution_count": null,
   "id": "2a763928",
   "metadata": {},
   "outputs": [],
   "source": [
    "import pandas as pd\n",
    "import numpy as np\n",
    "import datetime\n",
    "\n",
    "import matplotlib.pyplot as plt"
   ]
  },
  {
   "cell_type": "code",
   "execution_count": null,
   "id": "567ea385",
   "metadata": {},
   "outputs": [],
   "source": [
    "from climb.extraction import extract_climbinglogs, extract_sessionlogs\n",
    "from climb.aggregation import compute_gradepyramid_basic, get_maxgrade_flash, get_mediangrade\n",
    "from climb.aggregation import compute_gradepyramid, compute_weeklysummary\n",
    "from climb.diagram import plot_doublegradepyramid, plot_gradepyramid, plot_weeklysummary"
   ]
  },
  {
   "cell_type": "code",
   "execution_count": null,
   "id": "3c374ad1",
   "metadata": {},
   "outputs": [],
   "source": [
    "filein = './data/climbinglogs.xlsx'"
   ]
  },
  {
   "cell_type": "markdown",
   "id": "2a675532",
   "metadata": {},
   "source": [
    "### 1. Read in the data"
   ]
  },
  {
   "cell_type": "code",
   "execution_count": null,
   "id": "b5cdbe10",
   "metadata": {},
   "outputs": [],
   "source": [
    "from climb.grade import import_gradestable"
   ]
  },
  {
   "cell_type": "code",
   "execution_count": null,
   "id": "0b35d097",
   "metadata": {},
   "outputs": [],
   "source": [
    "logs = extract_climbinglogs(filein,\n",
    "                            cols_ffill=['date', 'climbing_gym', 'grade']\n",
    "                           )\n",
    "logs['week'] = logs['date'].dt.to_period('W-MON').apply(lambda r: r.start_time)"
   ]
  },
  {
   "cell_type": "code",
   "execution_count": null,
   "id": "4361da4f",
   "metadata": {},
   "outputs": [],
   "source": [
    "logs"
   ]
  },
  {
   "cell_type": "markdown",
   "id": "5a605b8f",
   "metadata": {},
   "source": [
    "### 2. Create a route pyramid"
   ]
  },
  {
   "cell_type": "code",
   "execution_count": null,
   "id": "146e20b6",
   "metadata": {
    "scrolled": false
   },
   "outputs": [],
   "source": [
    "fig = plot_gradepyramid(logs, aggtype='sum', gradesystem='usa')"
   ]
  },
  {
   "cell_type": "code",
   "execution_count": null,
   "id": "605b516e",
   "metadata": {},
   "outputs": [],
   "source": [
    "fig = plot_doublegradepyramid(logs, aggtype='sum', gradesystem='french')\n",
    "ax1, ax2 = fig.get_axes()\n",
    "x1max = ax1.get_xlim()[0]\n",
    "x2max = ax2.get_xlim()[-1]\n",
    "ax1.annotate(\"\", \n",
    "             xy=(x1max - 8, get_maxgrade_flash(logs[logs['style'] == 'lead'], gradesystem='french')),\n",
    "             xytext=(x1max - 5, get_maxgrade_flash(logs[logs['style'] == 'lead'], gradesystem='french')),\n",
    "             arrowprops=dict(arrowstyle=\"->\", lw=3))\n",
    "ax2.annotate(\"\", \n",
    "             xy=(x2max - 8, get_maxgrade_flash(logs[logs['style'] == 'toprope'], gradesystem='french')),\n",
    "             xytext=(x2max - 5, get_maxgrade_flash(logs[logs['style'] == 'toprope'], gradesystem='french')),\n",
    "             arrowprops=dict(arrowstyle=\"->\", lw=3))"
   ]
  },
  {
   "cell_type": "markdown",
   "id": "d9ab050d",
   "metadata": {},
   "source": [
    "### 3. Plot weekly summary figure"
   ]
  },
  {
   "cell_type": "code",
   "execution_count": null,
   "id": "9af6b440",
   "metadata": {},
   "outputs": [],
   "source": [
    "fig = plot_weeklysummary(logs, gradesystem='french')"
   ]
  },
  {
   "cell_type": "code",
   "execution_count": null,
   "id": "79edea36",
   "metadata": {
    "scrolled": false
   },
   "outputs": [],
   "source": [
    "fig = plot_weeklysummary(logs, gradesystem='usa')"
   ]
  },
  {
   "cell_type": "markdown",
   "id": "0a6fd44f",
   "metadata": {},
   "source": [
    "### 4. Further testing"
   ]
  },
  {
   "cell_type": "code",
   "execution_count": null,
   "id": "99bf050f",
   "metadata": {},
   "outputs": [],
   "source": [
    "pyrm = (logs[logs['ascension_type'] == 'redpoint']\n",
    "        .groupby(['week', 'grade_french'])\n",
    "        .agg(sends=('sends', 'sum'),\n",
    "            )\n",
    "       )\n",
    "\n",
    "temp = (logs[logs['ascension_type'] == 'redpoint']\n",
    "        .groupby('week')\n",
    "        .agg(sends_total=('sends', 'sum'),\n",
    "            )\n",
    "       )\n",
    "\n",
    "# Join the two dataframes\n",
    "pyrm = pyrm.reset_index()\n",
    "temp = temp.reset_index()\n",
    "\n",
    "pyrm = pyrm.merge(temp, on=['week'], how='left')\n",
    "\n",
    "pyrm['sends_percentage'] = pyrm['sends'] / pyrm['sends_total']\n",
    "pyrm.loc[:, 'sends_percentage'] = pyrm.loc[:, 'sends_percentage'].fillna(0.)\n",
    "\n",
    "# Perform pivot\n",
    "pyrm = pyrm.pivot(index='grade_french', columns='week', values='sends_percentage')\n",
    "\n",
    "pyrm = pyrm.drop(index=['1', '2', '3', \n",
    "                        '7c+', '8a', '8a+', '8b',\n",
    "                       ])\n",
    "\n",
    "pyrm\n",
    "\n",
    "import seaborn as sns\n",
    "\n",
    "fig = plt.figure(figsize=(16,16))\n",
    "ax = fig.add_subplot(111)\n",
    "sns.heatmap(pyrm, cmap='Blues', ax=ax)\n",
    "ax.invert_yaxis()"
   ]
  },
  {
   "cell_type": "code",
   "execution_count": null,
   "id": "fcabc22b",
   "metadata": {},
   "outputs": [],
   "source": [
    "pyrm = (logs[logs['ascension_type'] == 'flash']\n",
    "        .groupby(['date', 'grade_french'])\n",
    "        .agg(sends=('sends', 'sum'),\n",
    "            )\n",
    "       )\n",
    "\n",
    "temp = (logs[logs['ascension_type'] == 'flash']\n",
    "        .groupby('date')\n",
    "        .agg(sends_total=('sends', 'sum'),\n",
    "            )\n",
    "       )\n",
    "\n",
    "# Join the two dataframes\n",
    "pyrm = pyrm.reset_index()\n",
    "temp = temp.reset_index()\n",
    "\n",
    "pyrm = pyrm.merge(temp, on=['date'], how='left')\n",
    "\n",
    "pyrm['sends_percentage'] = pyrm['sends'] / pyrm['sends_total']\n",
    "pyrm.loc[:, 'sends_percentage'] = pyrm.loc[:, 'sends_percentage'].fillna(0.)\n",
    "\n",
    "# Perform pivot\n",
    "#pyrm = pyrm.pivot(index='grade_french', columns='date', values='sends_percentage')\n",
    "pyrm = pyrm.pivot(index='grade_french', columns='date', values='sends')\n",
    "\n",
    "pyrm = pyrm.drop(index=['1', '2', '3', \n",
    "                        '7c+', '8a', '8a+', '8b',\n",
    "                       ])\n",
    "\n",
    "pyrm\n",
    "\n",
    "import seaborn as sns\n",
    "\n",
    "fig = plt.figure(figsize=(16,16))\n",
    "ax = fig.add_subplot(111)\n",
    "sns.heatmap(pyrm, cmap='Blues', ax=ax)\n",
    "ax.invert_yaxis()"
   ]
  },
  {
   "cell_type": "code",
   "execution_count": null,
   "id": "95ea60c2",
   "metadata": {},
   "outputs": [],
   "source": [
    "from matplotlib import rc, rcParams\n",
    "import matplotlib.gridspec as gridspec\n",
    "from matplotlib.ticker import MultipleLocator, FixedLocator, FixedFormatter\n",
    "rc('xtick', labelsize=15) \n",
    "rc('ytick', labelsize=15) \n",
    "rc(\"lines\", markeredgewidth=2.0)\n",
    "rc(\"axes\", linewidth=2.0)\n",
    "rc('font', family='serif')\n",
    "rcParams[\"font.size\"] = 15\n",
    "rcParams['xtick.direction'] = 'out'\n",
    "rcParams['ytick.direction'] = 'out'"
   ]
  },
  {
   "cell_type": "code",
   "execution_count": null,
   "id": "6b6cec73",
   "metadata": {
    "scrolled": false
   },
   "outputs": [],
   "source": [
    "fig = plt.figure(figsize=(8,8))\n",
    "gs = gridspec.GridSpec(1, 8, width_ratios=[1,1,1,1,1,1,1,1])\n",
    "ax = fig.add_subplot(gs[0,:7])\n",
    "axcb = fig.add_axes(gs[0,7].get_position(fig))\n",
    "\n",
    "pos = ax.imshow(pyrm.values, cmap='Blues', interpolation='none', aspect='auto', origin='lower')\n",
    "\n",
    "cbar = fig.colorbar(pos, cax=axcb, format='%1.1f')\n",
    "cbar.set_label('Percentage of routes during session')\n",
    "\n",
    "ax.xaxis.set_major_locator(FixedLocator([ii for ii in range(pyrm.shape[1])]))\n",
    "ax.yaxis.set_major_locator(FixedLocator([ii for ii in range(pyrm.shape[0])]))\n",
    "ax.set_xticklabels([val.strftime('%Y-%m-%d') for val in pyrm.columns.to_list()],\n",
    "                   rotation=90)\n",
    "ax.set_yticklabels(pyrm.index.to_list())\n",
    "ax.tick_params(axis='both',which='major',length=10,width=2)\n",
    "\n",
    "axcb.grid(color='k')\n",
    "axcb.tick_params(left='on')"
   ]
  },
  {
   "cell_type": "code",
   "execution_count": null,
   "id": "a652098e",
   "metadata": {},
   "outputs": [],
   "source": []
  }
 ],
 "metadata": {
  "kernelspec": {
   "display_name": "Python 3 (ipykernel)",
   "language": "python",
   "name": "python3"
  },
  "language_info": {
   "codemirror_mode": {
    "name": "ipython",
    "version": 3
   },
   "file_extension": ".py",
   "mimetype": "text/x-python",
   "name": "python",
   "nbconvert_exporter": "python",
   "pygments_lexer": "ipython3",
   "version": "3.9.12"
  }
 },
 "nbformat": 4,
 "nbformat_minor": 5
}

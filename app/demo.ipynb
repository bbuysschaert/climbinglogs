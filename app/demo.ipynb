{
 "cells": [
  {
   "cell_type": "markdown",
   "id": "90c61313",
   "metadata": {},
   "source": [
    "# Climbing logs: exploration\n",
    "\n",
    "Exploration of the usability of the logs"
   ]
  },
  {
   "cell_type": "markdown",
   "id": "da24e47b",
   "metadata": {},
   "source": [
    "### 0. Variables and dependencies"
   ]
  },
  {
   "cell_type": "code",
   "execution_count": null,
   "id": "2a763928",
   "metadata": {},
   "outputs": [],
   "source": [
    "import pandas as pd\n",
    "import numpy as np\n",
    "import datetime\n",
    "\n",
    "import matplotlib.pyplot as plt\n",
    "import seaborn as sns"
   ]
  },
  {
   "cell_type": "code",
   "execution_count": null,
   "id": "567ea385",
   "metadata": {},
   "outputs": [],
   "source": [
    "from climb.conversion import convert_usa2french\n",
    "from climb.extraction import extract_climbinglogs, extract_sessionlogs"
   ]
  },
  {
   "cell_type": "code",
   "execution_count": null,
   "id": "3c374ad1",
   "metadata": {},
   "outputs": [],
   "source": [
    "filein = './../data/climbinglogs.xlsx'"
   ]
  },
  {
   "cell_type": "code",
   "execution_count": null,
   "id": "5e6ec8fd",
   "metadata": {},
   "outputs": [],
   "source": [
    "# Temporary hotfix\n",
    "\n",
    "import json\n",
    "from pandas.api.types import CategoricalDtype\n",
    "\n",
    "# Beware: these are currently ordered\n",
    "# Yet, it is not guaranteed !!!\n",
    "with open('./grades.json') as ff:\n",
    "    grades = json.load(ff)\n",
    "\n",
    "grades = list(grades['French2USA'].keys())\n",
    "grades = CategoricalDtype(categories=grades,\n",
    "                          ordered=True)"
   ]
  },
  {
   "cell_type": "code",
   "execution_count": null,
   "id": "c23989f5",
   "metadata": {},
   "outputs": [],
   "source": [
    "# Temporary hotfix\n",
    "ascensions = ['flash', 'redpoint', 'repeat', 'topped', 'not topped']\n",
    "ascensions = CategoricalDtype(categories=ascensions,\n",
    "                              ordered=True)"
   ]
  },
  {
   "cell_type": "markdown",
   "id": "2a675532",
   "metadata": {},
   "source": [
    "### 1. Read in the data"
   ]
  },
  {
   "cell_type": "code",
   "execution_count": null,
   "id": "d05a738f",
   "metadata": {},
   "outputs": [],
   "source": [
    "logs = extract_climbinglogs(filein,\n",
    "                            cols_ffill=['date', 'climbing_gym', 'difficulty_level']\n",
    "                           )\n",
    "# Rename columns\n",
    "logs = logs.rename(columns={'difficulty_level': 'grade'})\n",
    "\n",
    "# Fill missing values\n",
    "logs.loc[:, ['blocks', 'falls', 'sends']] = logs.loc[:,['blocks', 'falls', 'sends']].fillna(0)\n",
    "\n",
    "for cc in ['blocks', 'falls', 'sends']:\n",
    "    logs[cc] = pd.to_numeric(logs[cc], downcast='integer')\n",
    "\n",
    "# Move certain values to lowercase\n",
    "for cc in ['ascension_type', 'style']:\n",
    "    logs[cc] = [val.lower() for val in logs[cc]]\n",
    "    \n",
    "# Convert to font grade system\n",
    "logs['grade'] = [convert_usa2french(val) for val in logs['grade']]\n",
    "\n",
    "# Create catergorical data\n",
    "logs['grade'] = logs['grade'].astype(grades)\n",
    "logs['ascension_type'] = logs['ascension_type'].astype(ascensions)"
   ]
  },
  {
   "cell_type": "code",
   "execution_count": null,
   "id": "4361da4f",
   "metadata": {},
   "outputs": [],
   "source": [
    "logs"
   ]
  },
  {
   "cell_type": "code",
   "execution_count": null,
   "id": "e2af49f4",
   "metadata": {},
   "outputs": [],
   "source": [
    "#logs['grade'].median()"
   ]
  },
  {
   "cell_type": "markdown",
   "id": "796daa75",
   "metadata": {},
   "source": [
    "### 2. Quick pyramid plot\n",
    "\n",
    "Was actually the result of some iterative developing"
   ]
  },
  {
   "cell_type": "code",
   "execution_count": null,
   "id": "d3c95454",
   "metadata": {},
   "outputs": [],
   "source": [
    "def create_pyramid(df, aggtype: str = 'sum'):\n",
    "    \"\"\"\n",
    "    Create the pyramid aggregation of the climbing logs\n",
    "    \"\"\"\n",
    "    # The actual pyramid\n",
    "    pyrm = (df\n",
    "            .groupby(['grade', 'ascension_type'])\n",
    "            .agg(sends=('sends', aggtype),\n",
    "                )\n",
    "           )\n",
    "    \n",
    "    # Additional cumulative sum, needed to display the pyramid\n",
    "    temp = pyrm.groupby(level=0).cumsum()\n",
    "    temp = temp.rename(columns={'sends': 'sends_cumsum'})\n",
    "    \n",
    "    # Join the two dataframes\n",
    "    pyrm = pyrm.reset_index()\n",
    "    temp = temp.reset_index()\n",
    "    \n",
    "    return pyrm.merge(temp, on=['grade', 'ascension_type'], how='left')  "
   ]
  },
  {
   "cell_type": "code",
   "execution_count": null,
   "id": "905342f5",
   "metadata": {},
   "outputs": [],
   "source": [
    "# Needs to be generalized to accept axis!\n",
    "def plot_pyramid(pyrm: pd.DataFrame, ax=None, legend=False, gradesystem='French'):\n",
    "    \"\"\"\n",
    "    Plot the pyramid diagram\n",
    "    \"\"\"\n",
    "    assert 'grade' in pyrm.columns\n",
    "    assert 'ascension_type' in pyrm.columns\n",
    "    assert 'sends' in pyrm.columns\n",
    "    assert 'sends_cumsum' in pyrm.columns\n",
    "    \n",
    "    # Bookkeeping\n",
    "    category_colors = plt.get_cmap('viridis')(np.linspace(0.0, 1., len(ascensions.categories)))\n",
    "    labels = pyrm['grade']\n",
    "    \n",
    "    # Create a figure in case it was not specified\n",
    "    if ax == None:\n",
    "        fig = plt.figure(figsize=(16,16))\n",
    "        ax = fig.add_subplot(111)\n",
    "    \n",
    "    \n",
    "    \n",
    "    # Draw the pyramid\n",
    "    for aa, color in zip(ascensions.categories, category_colors):\n",
    "        # Subset the pyramid data to one ascension type\n",
    "        data = pyrm[pyrm['ascension_type'] == aa]\n",
    "        \n",
    "        widths = data['sends']\n",
    "        starts = data['sends_cumsum'] - widths\n",
    "        \n",
    "        # Actual plotting\n",
    "        ax.barh(data['grade'], widths, left=starts, height=0.85,\n",
    "                label=aa, color=color, edgecolor='k')\n",
    "        \n",
    "        xcenters = starts + widths / 2\n",
    "        \n",
    "        # Get the colors our to determine annotation color\n",
    "        r, g, b, _ = color\n",
    "        text_color = 'white' if r * g * b < 0.5 else 'darkgrey'\n",
    "        for y, (x, c) in enumerate(zip(xcenters, widths)):\n",
    "            if c != int(0):\n",
    "                ax.text(x, y, str(int(c)), ha='center', va='center',\n",
    "                        color=text_color)\n",
    "    \n",
    "    # Make the figure meaningful   \n",
    "    if legend:\n",
    "        ax.legend(ncol=len(ascensions.categories),\n",
    "                  bbox_to_anchor=(0, 1),\n",
    "                  loc='lower left', fontsize='large')\n",
    "    \n",
    "    ax.set_ylim(['4', '7c'])\n",
    "    ax.set_xlabel('Total routes climbed', fontsize='large')\n",
    "    ax.set_ylabel('Climbing grade (Font system)', fontsize='large')\n",
    "    \n",
    "    ax.set_xlim([0, pyrm['sends_cumsum'].max() + 2])\n",
    "    \n",
    "    if ax == None:\n",
    "        return fig, ax\n",
    "    else:\n",
    "        return ax"
   ]
  },
  {
   "cell_type": "code",
   "execution_count": null,
   "id": "7971917a",
   "metadata": {},
   "outputs": [],
   "source": [
    "condlead = logs['style'] == 'lead'\n",
    "condtop = logs['style'] == 'toprope'\n",
    "\n",
    "fig = plt.figure(figsize=(16,8))\n",
    "ax1 = fig.add_subplot(121)\n",
    "ax2 = fig.add_subplot(122)\n",
    "fig.subplots_adjust(wspace=0)\n",
    "\n",
    "pyrmlead = create_pyramid(logs[condlead])\n",
    "pyrmtop = create_pyramid(logs[condtop])\n",
    "ax1 = plot_pyramid(pyrmlead, ax1)\n",
    "ax2 = plot_pyramid(pyrmtop, ax2)\n",
    "\n",
    "ax1.invert_xaxis()\n",
    "ax1.set_title('Lead climbing - {} routes'.format(pyrmlead['sends'].sum()))\n",
    "ax2.set_title('Toprope climbing - {} routes'.format(pyrmtop['sends'].sum()))\n",
    "ax2.yaxis.set_label_position('right')\n",
    "ax2.yaxis.tick_right()\n",
    "ax2.legend(ncol=len(ascensions.categories),\n",
    "           bbox_to_anchor=(0, -0.12),\n",
    "           loc='best', fontsize='large')\n",
    "\n",
    "xmax = max([ax1.get_xlim()[1], ax2.get_xlim()[1]])\n",
    "ax1.set_xlim([xmax, 0]); ax2.set_xlim([0, xmax]);\n"
   ]
  }
 ],
 "metadata": {
  "kernelspec": {
   "display_name": "Python 3 (ipykernel)",
   "language": "python",
   "name": "python3"
  },
  "language_info": {
   "codemirror_mode": {
    "name": "ipython",
    "version": 3
   },
   "file_extension": ".py",
   "mimetype": "text/x-python",
   "name": "python",
   "nbconvert_exporter": "python",
   "pygments_lexer": "ipython3",
   "version": "3.9.12"
  }
 },
 "nbformat": 4,
 "nbformat_minor": 5
}
